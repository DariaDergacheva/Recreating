{
 "cells": [
  {
   "cell_type": "code",
   "execution_count": null,
   "id": "df7f022b-f0db-4348-8ecc-e7077d33cb1c",
   "metadata": {},
   "outputs": [],
   "source": [
    "import pandas as pd\n",
    "import os\n",
    "from googleapiclient.discovery import build\n",
    "import numpy as np\n"
   ]
  },
  {
   "cell_type": "code",
   "execution_count": null,
   "id": "7cea0556-2c0b-48e4-9b07-9d4872237a48",
   "metadata": {},
   "outputs": [],
   "source": [
    "os. getcwd()"
   ]
  },
  {
   "cell_type": "code",
   "execution_count": null,
   "id": "40dc59c2-b81e-4a0e-b9d9-f654dca54fc4",
   "metadata": {},
   "outputs": [],
   "source": [
    "#load dataframe\n",
    "df = pd.read_csv('videos_DE_FR_IE_EE_10k.csv', low_memory=False)\n"
   ]
  },
  {
   "cell_type": "code",
   "execution_count": null,
   "id": "02371ee0-3b9c-4a0d-b730-b53ad1227687",
   "metadata": {},
   "outputs": [],
   "source": [
    "#cheaking first 3 rows\n",
    "df.head(3)"
   ]
  },
  {
   "cell_type": "code",
   "execution_count": null,
   "id": "17d9d001-a381-4bf7-93b9-fa008a2eb926",
   "metadata": {},
   "outputs": [],
   "source": [
    "#extracting video ids\n",
    "video_ids = df['hash'].to_list()"
   ]
  },
  {
   "cell_type": "code",
   "execution_count": null,
   "id": "63c6fa3b-169c-40b7-9e00-3e56692770db",
   "metadata": {},
   "outputs": [],
   "source": [
    "#checking a lenth of the list\n",
    "lenth = len (video_ids)\n",
    "lenth"
   ]
  },
  {
   "cell_type": "code",
   "execution_count": null,
   "id": "03d0ccae-55ee-4f0b-8d51-1544c21b45a0",
   "metadata": {},
   "outputs": [],
   "source": [
    "#extracting first 500 items\n",
    "f = video_ids[:500]"
   ]
  },
  {
   "cell_type": "code",
   "execution_count": null,
   "id": "6eee95b6-6ef7-45fb-9f39-db2b84c80459",
   "metadata": {},
   "outputs": [],
   "source": [
    "f"
   ]
  },
  {
   "cell_type": "code",
   "execution_count": null,
   "id": "de539698-7bab-4bdf-96c9-df10b8c85f81",
   "metadata": {},
   "outputs": [],
   "source": [
    "api_key = YOUR API"
   ]
  },
  {
   "cell_type": "code",
   "execution_count": null,
   "id": "71b6eb62-46cf-4570-899b-2fd63daaa2ad",
   "metadata": {},
   "outputs": [],
   "source": [
    "youtube = build('youtube', 'v3', developerKey=api_key)\n"
   ]
  },
  {
   "cell_type": "code",
   "execution_count": null,
   "id": "0d73cce8-2e59-42ad-bfe0-62ca58911564",
   "metadata": {},
   "outputs": [],
   "source": [
    "def get_video_details(youtube, f):\n",
    "    all_video_stats = []\n",
    "    \n",
    "    for i in range(0, len(f), 50):\n",
    "        request = youtube.videos().list(\n",
    "                    part='snippet,statistics,contentDetails',\n",
    "                    id=','.join(f[i:i+50]))\n",
    "        response = request.execute()\n",
    "        \n",
    "\n",
    "    \n",
    "    return  response"
   ]
  },
  {
   "cell_type": "code",
   "execution_count": null,
   "id": "098b5640-84dd-410c-a3ac-0364c2175a0d",
   "metadata": {},
   "outputs": [],
   "source": [
    "video_details = get_video_details(youtube, f)"
   ]
  },
  {
   "cell_type": "code",
   "execution_count": null,
   "id": "62864b15-41b2-463b-8389-a081538c0d10",
   "metadata": {},
   "outputs": [],
   "source": [
    "video_details"
   ]
  },
  {
   "cell_type": "code",
   "execution_count": null,
   "id": "f3be3db0-07be-4e95-9e2f-d43bdb964c3f",
   "metadata": {},
   "outputs": [],
   "source": [
    "import json"
   ]
  },
  {
   "cell_type": "code",
   "execution_count": null,
   "id": "bf526c9c-a59c-423d-b5ae-b80100e4fc21",
   "metadata": {},
   "outputs": [],
   "source": [
    "with open('video_info.txt', 'w') as file:\n",
    "     file.write(json.dumps(video_details))"
   ]
  },
  {
   "cell_type": "code",
   "execution_count": null,
   "id": "86f1a674-bfd9-48c1-9eb5-a5526ce02bc7",
   "metadata": {},
   "outputs": [],
   "source": []
  }
 ],
 "metadata": {
  "kernelspec": {
   "display_name": "Python 3 (ipykernel)",
   "language": "python",
   "name": "python3"
  },
  "language_info": {
   "codemirror_mode": {
    "name": "ipython",
    "version": 3
   },
   "file_extension": ".py",
   "mimetype": "text/x-python",
   "name": "python",
   "nbconvert_exporter": "python",
   "pygments_lexer": "ipython3",
   "version": "3.9.7"
  }
 },
 "nbformat": 4,
 "nbformat_minor": 5
}
